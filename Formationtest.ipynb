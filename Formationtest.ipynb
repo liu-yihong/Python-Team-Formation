{
 "cells": [
  {
   "cell_type": "code",
   "execution_count": 1,
   "metadata": {},
   "outputs": [],
   "source": [
    "%load_ext autoreload\n",
    "%autoreload 2"
   ]
  },
  {
   "cell_type": "code",
   "execution_count": 2,
   "metadata": {},
   "outputs": [],
   "source": [
    "from TeamFormation import *"
   ]
  },
  {
   "cell_type": "code",
   "execution_count": 3,
   "metadata": {},
   "outputs": [],
   "source": [
    "NUM_NODES = 100\n",
    "EDGE_PROB = 0.05\n",
    "NUM_SKILL = 4\n",
    "SKILL_PROB = 0.1\n",
    "MAX_HOP = 5"
   ]
  },
  {
   "cell_type": "code",
   "execution_count": 20,
   "metadata": {},
   "outputs": [],
   "source": [
    "Node1 = CapNode().new(\n",
    "    ID=2,\n",
    "    Capacity=2,\n",
    "    SkillList=[1, 1, 0, 0],\n",
    "    AssignmentList=[1, 1, 0, 0]\n",
    ")\n",
    "\n",
    "Node2 = CapNode().new(\n",
    "    ID=3,\n",
    "    Capacity=3,\n",
    "    SkillList=[1, 1, 1, 1],\n",
    "    AssignmentList=[0, 1, 1, 1]\n",
    ")"
   ]
  },
  {
   "cell_type": "code",
   "execution_count": 4,
   "metadata": {},
   "outputs": [],
   "source": [
    "Task1 = Task().new([1, 2, 1, 1])"
   ]
  },
  {
   "cell_type": "code",
   "execution_count": 34,
   "metadata": {},
   "outputs": [],
   "source": [
    "Team1 = CapTeam().new(\n",
    "    SpecificTask=Task1,\n",
    "    SpecificNodeList=[Node1, Node2]\n",
    ")"
   ]
  },
  {
   "cell_type": "code",
   "execution_count": 5,
   "metadata": {},
   "outputs": [
    {
     "data": {
      "text/plain": [
       "(100, 233)"
      ]
     },
     "execution_count": 5,
     "metadata": {},
     "output_type": "execute_result"
    }
   ],
   "source": [
    "G1, NodeList1 = generateBinomialGraph(NUM_NODES, EDGE_PROB, CapNode)\n",
    "(\n",
    "    len(G1.nodes),\n",
    "    len(G1.edges)\n",
    ")"
   ]
  },
  {
   "cell_type": "code",
   "execution_count": 6,
   "metadata": {},
   "outputs": [
    {
     "data": {
      "text/plain": [
       "((array([1, 0, 1, 0]), 3), (array([1, 1, 0, 1]), 3))"
      ]
     },
     "execution_count": 6,
     "metadata": {},
     "output_type": "execute_result"
    }
   ],
   "source": [
    "(\n",
    "    (NodeList1[0].SkillList, NodeList1[0].Capacity),\n",
    "    (NodeList1[5].SkillList, NodeList1[5].Capacity)\n",
    ")"
   ]
  },
  {
   "cell_type": "code",
   "execution_count": 8,
   "metadata": {},
   "outputs": [
    {
     "ename": "AttributeError",
     "evalue": "'CapNode' object has no attribute 'AssignmentList'",
     "output_type": "error",
     "traceback": [
      "\u001b[1;31m---------------------------------------------------------------------------\u001b[0m",
      "\u001b[1;31mAttributeError\u001b[0m                            Traceback (most recent call last)",
      "\u001b[1;32m~\\AppData\\Local\\Temp/ipykernel_21364/2649444213.py\u001b[0m in \u001b[0;36m<module>\u001b[1;34m\u001b[0m\n\u001b[0;32m      1\u001b[0m \u001b[0mTask1\u001b[0m \u001b[1;33m=\u001b[0m \u001b[0mTask\u001b[0m\u001b[1;33m(\u001b[0m\u001b[1;33m)\u001b[0m\u001b[1;33m.\u001b[0m\u001b[0mnew\u001b[0m\u001b[1;33m(\u001b[0m\u001b[1;33m[\u001b[0m\u001b[1;36m1\u001b[0m\u001b[1;33m,\u001b[0m \u001b[1;36m1\u001b[0m\u001b[1;33m,\u001b[0m \u001b[1;36m1\u001b[0m\u001b[1;33m,\u001b[0m \u001b[1;36m1\u001b[0m\u001b[1;33m]\u001b[0m\u001b[1;33m)\u001b[0m\u001b[1;33m\u001b[0m\u001b[1;33m\u001b[0m\u001b[0m\n\u001b[1;32m----> 2\u001b[1;33m Team1 = CapTeam().new(\n\u001b[0m\u001b[0;32m      3\u001b[0m     \u001b[0mSpecificTask\u001b[0m\u001b[1;33m=\u001b[0m\u001b[0mTask1\u001b[0m\u001b[1;33m,\u001b[0m\u001b[1;33m\u001b[0m\u001b[1;33m\u001b[0m\u001b[0m\n\u001b[0;32m      4\u001b[0m     \u001b[0mSpecificNodeList\u001b[0m\u001b[1;33m=\u001b[0m\u001b[1;33m[\u001b[0m\u001b[0mNodeList1\u001b[0m\u001b[1;33m[\u001b[0m\u001b[1;36m0\u001b[0m\u001b[1;33m]\u001b[0m\u001b[1;33m,\u001b[0m \u001b[0mNodeList1\u001b[0m\u001b[1;33m[\u001b[0m\u001b[1;36m3\u001b[0m\u001b[1;33m]\u001b[0m\u001b[1;33m]\u001b[0m\u001b[1;33m\u001b[0m\u001b[1;33m\u001b[0m\u001b[0m\n\u001b[0;32m      5\u001b[0m )\n",
      "\u001b[1;32md:\\OneDrive - The University of Texas at Dallas\\UTD MIS PhD YXL180111\\2021 Fall\\Research\\TeamFormationCodes\\TeamFormation.py\u001b[0m in \u001b[0;36mnew\u001b[1;34m(self, SpecificTask, SpecificNodeList)\u001b[0m\n\u001b[0;32m    119\u001b[0m         \u001b[0mNewTeamInstance\u001b[0m \u001b[1;33m=\u001b[0m \u001b[0mTeam\u001b[0m\u001b[1;33m(\u001b[0m\u001b[1;33m)\u001b[0m\u001b[1;33m\u001b[0m\u001b[1;33m\u001b[0m\u001b[0m\n\u001b[0;32m    120\u001b[0m         \u001b[1;31m# check team skill covering constraint\u001b[0m\u001b[1;33m\u001b[0m\u001b[1;33m\u001b[0m\u001b[0m\n\u001b[1;32m--> 121\u001b[1;33m         assert self.checkCoveringConstraints(\n\u001b[0m\u001b[0;32m    122\u001b[0m             SpecificTask, SpecificNodeList), \"Nodes cannot cover task requirement!\"\n\u001b[0;32m    123\u001b[0m         \u001b[0mNewTeamInstance\u001b[0m\u001b[1;33m.\u001b[0m\u001b[0mInnerTask\u001b[0m\u001b[1;33m,\u001b[0m \u001b[0mNewTeamInstance\u001b[0m\u001b[1;33m.\u001b[0m\u001b[0mNodeList\u001b[0m \u001b[1;33m=\u001b[0m \u001b[0mSpecificTask\u001b[0m\u001b[1;33m,\u001b[0m \u001b[0mSpecificNodeList\u001b[0m\u001b[1;33m\u001b[0m\u001b[1;33m\u001b[0m\u001b[0m\n",
      "\u001b[1;32md:\\OneDrive - The University of Texas at Dallas\\UTD MIS PhD YXL180111\\2021 Fall\\Research\\TeamFormationCodes\\TeamFormation.py\u001b[0m in \u001b[0;36mcheckCoveringConstraints\u001b[1;34m(self, SpecificTask, SpecificNodeList)\u001b[0m\n\u001b[0;32m    107\u001b[0m     \u001b[1;32mdef\u001b[0m \u001b[0mcheckCoveringConstraints\u001b[0m\u001b[1;33m(\u001b[0m\u001b[0mself\u001b[0m\u001b[1;33m,\u001b[0m \u001b[0mSpecificTask\u001b[0m\u001b[1;33m:\u001b[0m \u001b[0mTask\u001b[0m\u001b[1;33m,\u001b[0m \u001b[0mSpecificNodeList\u001b[0m\u001b[1;33m:\u001b[0m \u001b[0mList\u001b[0m\u001b[1;33m[\u001b[0m\u001b[0mNode\u001b[0m\u001b[1;33m]\u001b[0m\u001b[1;33m)\u001b[0m \u001b[1;33m->\u001b[0m \u001b[0mbool\u001b[0m\u001b[1;33m:\u001b[0m\u001b[1;33m\u001b[0m\u001b[1;33m\u001b[0m\u001b[0m\n\u001b[0;32m    108\u001b[0m         AssignmentCover = np.sum(\n\u001b[1;32m--> 109\u001b[1;33m             [i.AssignmentList for i in SpecificNodeList], axis=0)\n\u001b[0m\u001b[0;32m    110\u001b[0m         \u001b[1;32mreturn\u001b[0m \u001b[1;33m(\u001b[0m\u001b[0mAssignmentCover\u001b[0m \u001b[1;33m>=\u001b[0m \u001b[0mSpecificTask\u001b[0m\u001b[1;33m.\u001b[0m\u001b[0mSkillList\u001b[0m\u001b[1;33m)\u001b[0m\u001b[1;33m.\u001b[0m\u001b[0mall\u001b[0m\u001b[1;33m(\u001b[0m\u001b[1;33m)\u001b[0m\u001b[1;33m\u001b[0m\u001b[1;33m\u001b[0m\u001b[0m\n\u001b[0;32m    111\u001b[0m \u001b[1;33m\u001b[0m\u001b[0m\n",
      "\u001b[1;32md:\\OneDrive - The University of Texas at Dallas\\UTD MIS PhD YXL180111\\2021 Fall\\Research\\TeamFormationCodes\\TeamFormation.py\u001b[0m in \u001b[0;36m<listcomp>\u001b[1;34m(.0)\u001b[0m\n\u001b[0;32m    107\u001b[0m     \u001b[1;32mdef\u001b[0m \u001b[0mcheckCoveringConstraints\u001b[0m\u001b[1;33m(\u001b[0m\u001b[0mself\u001b[0m\u001b[1;33m,\u001b[0m \u001b[0mSpecificTask\u001b[0m\u001b[1;33m:\u001b[0m \u001b[0mTask\u001b[0m\u001b[1;33m,\u001b[0m \u001b[0mSpecificNodeList\u001b[0m\u001b[1;33m:\u001b[0m \u001b[0mList\u001b[0m\u001b[1;33m[\u001b[0m\u001b[0mNode\u001b[0m\u001b[1;33m]\u001b[0m\u001b[1;33m)\u001b[0m \u001b[1;33m->\u001b[0m \u001b[0mbool\u001b[0m\u001b[1;33m:\u001b[0m\u001b[1;33m\u001b[0m\u001b[1;33m\u001b[0m\u001b[0m\n\u001b[0;32m    108\u001b[0m         AssignmentCover = np.sum(\n\u001b[1;32m--> 109\u001b[1;33m             [i.AssignmentList for i in SpecificNodeList], axis=0)\n\u001b[0m\u001b[0;32m    110\u001b[0m         \u001b[1;32mreturn\u001b[0m \u001b[1;33m(\u001b[0m\u001b[0mAssignmentCover\u001b[0m \u001b[1;33m>=\u001b[0m \u001b[0mSpecificTask\u001b[0m\u001b[1;33m.\u001b[0m\u001b[0mSkillList\u001b[0m\u001b[1;33m)\u001b[0m\u001b[1;33m.\u001b[0m\u001b[0mall\u001b[0m\u001b[1;33m(\u001b[0m\u001b[1;33m)\u001b[0m\u001b[1;33m\u001b[0m\u001b[1;33m\u001b[0m\u001b[0m\n\u001b[0;32m    111\u001b[0m \u001b[1;33m\u001b[0m\u001b[0m\n",
      "\u001b[1;31mAttributeError\u001b[0m: 'CapNode' object has no attribute 'AssignmentList'"
     ]
    }
   ],
   "source": [
    "Task1 = Task().new([1, 1, 1, 1])\n",
    "Team1 = CapTeam().new(\n",
    "    SpecificTask=Task1,\n",
    "    SpecificNodeList=[NodeList1[0], NodeList1[3]]\n",
    ")"
   ]
  },
  {
   "cell_type": "code",
   "execution_count": 6,
   "metadata": {},
   "outputs": [
    {
     "name": "stdout",
     "output_type": "stream",
     "text": [
      "[(0, 2), (9, 1), (89, 2), (11, 2)]\n",
      "[1. 2. 1. 1.]\n"
     ]
    }
   ],
   "source": [
    "'''\n",
    "Check MinDiamSol\n",
    "'''\n",
    "Task1 = Task().new([1, 2, 1, 1])\n",
    "Team1 = MinDiamSol(\n",
    "    G=G1,\n",
    "    AllNodeList=NodeList1,\n",
    "    FocalNodeID=0,\n",
    "    FocalTask=Task1,\n",
    "    MAXIMUM_HOP=MAX_HOP\n",
    ")\n",
    "print([(i.ID, i.Capacity) for i in Team1.NodeList])\n",
    "print(np.sum([i.AssignmentList for i in Team1.NodeList], axis=0))"
   ]
  },
  {
   "cell_type": "code",
   "execution_count": 7,
   "metadata": {},
   "outputs": [
    {
     "name": "stdout",
     "output_type": "stream",
     "text": [
      "[(0, 2), (89, 2), (11, 2)]\n",
      "[1. 2. 1. 1.]\n"
     ]
    }
   ],
   "source": [
    "'''\n",
    "Check MinAggrSol\n",
    "'''\n",
    "Task1 = Task().new([1, 2, 1, 1])\n",
    "Team1 = MinAggrSol(\n",
    "    G=G1,\n",
    "    AllNodeList=NodeList1,\n",
    "    FocalNodeID=0,\n",
    "    FocalTask=Task1,\n",
    "    MAXIMUM_HOP=MAX_HOP\n",
    ")\n",
    "print([(i.ID, i.Capacity) for i in Team1.NodeList])\n",
    "print(np.sum([i.AssignmentList for i in Team1.NodeList], axis=0))"
   ]
  }
 ],
 "metadata": {
  "interpreter": {
   "hash": "7b4b4feff2f24a0f0a34464dbe537a36fda679851528fb8735cb41fa49dffb2d"
  },
  "kernelspec": {
   "display_name": "Python 3.9.7 64-bit ('base': conda)",
   "language": "python",
   "name": "python3"
  },
  "language_info": {
   "codemirror_mode": {
    "name": "ipython",
    "version": 3
   },
   "file_extension": ".py",
   "mimetype": "text/x-python",
   "name": "python",
   "nbconvert_exporter": "python",
   "pygments_lexer": "ipython3",
   "version": "3.9.7"
  },
  "orig_nbformat": 4
 },
 "nbformat": 4,
 "nbformat_minor": 2
}
