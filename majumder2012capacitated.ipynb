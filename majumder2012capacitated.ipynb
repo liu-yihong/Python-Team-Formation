{
 "cells": [
  {
   "cell_type": "markdown",
   "metadata": {},
   "source": [
    "# Python Implementation of \"Capacitated Team Formation Problem on Social Networks\""
   ]
  },
  {
   "cell_type": "code",
   "execution_count": 1,
   "metadata": {},
   "outputs": [],
   "source": [
    "%load_ext autoreload\n",
    "%autoreload 2"
   ]
  },
  {
   "cell_type": "code",
   "execution_count": 2,
   "metadata": {},
   "outputs": [],
   "source": [
    "from TeamFormation import *"
   ]
  },
  {
   "cell_type": "code",
   "execution_count": 3,
   "metadata": {},
   "outputs": [],
   "source": [
    "NUM_NODES = 200\n",
    "EDGE_PROB = 0.1\n",
    "NUM_SKILL = 4\n",
    "SKILL_PROB = 0.1\n",
    "MAX_HOP = 999"
   ]
  },
  {
   "cell_type": "code",
   "execution_count": 4,
   "metadata": {},
   "outputs": [
    {
     "data": {
      "text/plain": [
       "(200, 1961)"
      ]
     },
     "execution_count": 4,
     "metadata": {},
     "output_type": "execute_result"
    }
   ],
   "source": [
    "G1, NodeList1 = generateBinomialGraph(NUM_NODES, EDGE_PROB, CapNode)\n",
    "(\n",
    "    len(G1.nodes),\n",
    "    len(G1.edges)\n",
    ")"
   ]
  },
  {
   "cell_type": "code",
   "execution_count": 5,
   "metadata": {},
   "outputs": [
    {
     "name": "stdout",
     "output_type": "stream",
     "text": [
      "[(1, 4), (16, 4)]\n",
      "[1. 2. 1. 1.]\n"
     ]
    }
   ],
   "source": [
    "'''\n",
    "Check MinDiamSol\n",
    "'''\n",
    "Task1 = Task().new([1, 2, 1, 1])\n",
    "Team1 = MinDiamSol(\n",
    "    G=G1,\n",
    "    AllNodeList=NodeList1,\n",
    "    FocalNodeID=1,\n",
    "    FocalTask=Task1,\n",
    "    MAXIMUM_HOP=MAX_HOP\n",
    ")\n",
    "print([(i.ID, i.Capacity) for i in Team1.NodeList])\n",
    "print(np.sum([i.AssignmentList for i in Team1.NodeList], axis=0))"
   ]
  },
  {
   "cell_type": "code",
   "execution_count": 6,
   "metadata": {},
   "outputs": [
    {
     "name": "stdout",
     "output_type": "stream",
     "text": [
      "[(1, 4), (16, 4)]\n",
      "[1. 2. 1. 1.]\n"
     ]
    }
   ],
   "source": [
    "'''\n",
    "Check MinAggrSol\n",
    "'''\n",
    "Task1 = Task().new([1, 2, 1, 1])\n",
    "Team1 = MinAggrSol(\n",
    "    G=G1,\n",
    "    AllNodeList=NodeList1,\n",
    "    FocalNodeID=1,\n",
    "    FocalTask=Task1,\n",
    "    MAXIMUM_HOP=MAX_HOP\n",
    ")\n",
    "print([(i.ID, i.Capacity) for i in Team1.NodeList])\n",
    "print(np.sum([i.AssignmentList for i in Team1.NodeList], axis=0))"
   ]
  }
 ],
 "metadata": {
  "interpreter": {
   "hash": "7b4b4feff2f24a0f0a34464dbe537a36fda679851528fb8735cb41fa49dffb2d"
  },
  "kernelspec": {
   "display_name": "Python 3.9.7 64-bit ('base': conda)",
   "language": "python",
   "name": "python3"
  },
  "language_info": {
   "codemirror_mode": {
    "name": "ipython",
    "version": 3
   },
   "file_extension": ".py",
   "mimetype": "text/x-python",
   "name": "python",
   "nbconvert_exporter": "python",
   "pygments_lexer": "ipython3",
   "version": "3.9.7"
  },
  "orig_nbformat": 4
 },
 "nbformat": 4,
 "nbformat_minor": 2
}
